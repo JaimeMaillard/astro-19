{
 "cells": [
  {
   "cell_type": "code",
   "execution_count": 7,
   "id": "1b053fb6-c3e6-4e12-a39d-d6e094112aac",
   "metadata": {},
   "outputs": [],
   "source": [
    "import numpy as np\n",
    "import matplotlib.pyplot as plt"
   ]
  },
  {
   "cell_type": "code",
   "execution_count": 8,
   "id": "811b9499-dee7-42d7-ab25-47cfc1e92b96",
   "metadata": {},
   "outputs": [
    {
     "ename": "ValueError",
     "evalue": "min() arg is an empty sequence",
     "output_type": "error",
     "traceback": [
      "\u001b[0;31m---------------------------------------------------------------------------\u001b[0m",
      "\u001b[0;31mValueError\u001b[0m                                Traceback (most recent call last)",
      "Cell \u001b[0;32mIn[8], line 3\u001b[0m\n\u001b[1;32m      1\u001b[0m x\u001b[38;5;241m=\u001b[39mnp\u001b[38;5;241m.\u001b[39mrandom\u001b[38;5;241m.\u001b[39mrandn(\u001b[38;5;241m0\u001b[39m,\u001b[38;5;241m1\u001b[39m,\u001b[38;5;241m1000\u001b[39m)\n\u001b[1;32m      2\u001b[0m width\u001b[38;5;241m=\u001b[39m\u001b[38;5;241m0.05\u001b[39m\n\u001b[0;32m----> 3\u001b[0m histmin\u001b[38;5;241m=\u001b[39mnp\u001b[38;5;241m.\u001b[39mfloor(\u001b[38;5;28;43mmin\u001b[39;49m\u001b[43m(\u001b[49m\u001b[43mx\u001b[49m\u001b[43m)\u001b[49m)\n\u001b[1;32m      4\u001b[0m histmax\u001b[38;5;241m=\u001b[39mnp\u001b[38;5;241m.\u001b[39mceil(\u001b[38;5;28mmax\u001b[39m(x))\u001b[38;5;241m+\u001b[39mwidth\n\u001b[1;32m      7\u001b[0m bins\u001b[38;5;241m=\u001b[39mnp\u001b[38;5;241m.\u001b[39marange(histmin,histmax,width)\n",
      "\u001b[0;31mValueError\u001b[0m: min() arg is an empty sequence"
     ]
    }
   ],
   "source": [
    "x=np.random.randn(0,1,1000)\n",
    "width=0.05\n",
    "histmin=np.floor(min(x))\n",
    "histmax=np.ceil(max(x))+width\n",
    "\n",
    "\n",
    "bins=np.arange(histmin,histmax,width)\n",
    "plt.hist(x,bins=bins,alpha=0.5,edgecolor=\"black\")\n",
    "plt.ylabel(\"N per bin\")\n",
    "plt.xlabel(\"x\")\n",
    "plt.savefig(\"example-histo.pdf\",bbox_inches=\"tight\",facecolor=\"white\")"
   ]
  },
  {
   "cell_type": "code",
   "execution_count": null,
   "id": "1eeb6e6a-ee33-4bc0-aaf1-4dad114648af",
   "metadata": {},
   "outputs": [],
   "source": []
  },
  {
   "cell_type": "code",
   "execution_count": null,
   "id": "ba4d4660-b491-4c0f-907b-01f7016de437",
   "metadata": {},
   "outputs": [],
   "source": []
  }
 ],
 "metadata": {
  "kernelspec": {
   "display_name": "ASTR 19",
   "language": "python",
   "name": "astr19"
  },
  "language_info": {
   "codemirror_mode": {
    "name": "ipython",
    "version": 3
   },
   "file_extension": ".py",
   "mimetype": "text/x-python",
   "name": "python",
   "nbconvert_exporter": "python",
   "pygments_lexer": "ipython3",
   "version": "3.10.12"
  }
 },
 "nbformat": 4,
 "nbformat_minor": 5
}
