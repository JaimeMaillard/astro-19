{
 "cells": [
  {
   "cell_type": "code",
   "execution_count": null,
   "id": "56f9ad95-496c-4194-be87-158e865eb239",
   "metadata": {
    "tags": []
   },
   "outputs": [],
   "source": [
    "import numpy as np\n",
    "import matplotlib.pyplot as plt"
   ]
  },
  {
   "cell_type": "code",
   "execution_count": 26,
   "id": "55bf294e-1958-495b-85b0-97402bd912c6",
   "metadata": {},
   "outputs": [
    {
     "data": {
      "text/plain": [
       "0.4963373568741221"
      ]
     },
     "execution_count": 26,
     "metadata": {},
     "output_type": "execute_result"
    }
   ],
   "source": [
    "rng = np.random.default_rng()\n",
    "a=2.0\n",
    "b=8.0\n",
    "size=1000\n",
    "\n",
    "sample=rng.beta(a=a,b=b,size=size)\n",
    "np.mean(sample)"
   ]
  },
  {
   "cell_type": "code",
   "execution_count": 27,
   "id": "2979b2c0-895a-4d6b-a70c-a242f3fd25c1",
   "metadata": {},
   "outputs": [
    {
     "name": "stdout",
     "output_type": "stream",
     "text": [
      "0.0011956398983951066\n",
      "0.01276856293395734\n"
     ]
    }
   ],
   "source": [
    "sample_left=rng.beta(a=a,b=b,size=size)\n",
    "sample_right=rng.beta(a=b,b=a,size=size)\n",
    "m_left=np.mean(sample_left)\n",
    "m_right=np.mean(sample_right)\n",
    "print(m_left-a/(a+b))\n",
    "print(m_right-b/(a+b))"
   ]
  },
  {
   "cell_type": "code",
   "execution_count": 28,
   "id": "eb65c62a-2e3e-4fe0-8fb7-3b8d4d1d6a37",
   "metadata": {},
   "outputs": [
    {
     "data": {
      "image/png": "[encoded data removed]",
      "text/plain": [
       "<Figure size 640x480 with 1 Axes>"
      ]
     },
     "metadata": {},
     "output_type": "display_data"
    }
   ],
   "source": [
    "plt.hist([sample_left,sample_right],100,density=True, histtype='bar')\n",
    "plt.xlabel('x')\n",
    "plt.show()"
   ]
  },
  {
   "cell_type": "code",
   "execution_count": null,
   "id": "19d14bec-0621-4952-a936-57ae380bd7e1",
   "metadata": {},
   "outputs": [],
   "source": []
  }
 ],
 "metadata": {
  "kernelspec": {
   "display_name": "ASTR 19",
   "language": "python",
   "name": "astr19"
  },
  "language_info": {
   "codemirror_mode": {
    "name": "ipython",
    "version": 3
   },
   "file_extension": ".py",
   "mimetype": "text/x-python",
   "name": "python",
   "nbconvert_exporter": "python",
   "pygments_lexer": "ipython3",
   "version": "3.10.12"
  }
 },
 "nbformat": 4,
 "nbformat_minor": 5
}
